{
  "nbformat": 4,
  "nbformat_minor": 0,
  "metadata": {
    "colab": {
      "name": "cifar100.ipynb",
      "provenance": [],
      "collapsed_sections": [],
      "include_colab_link": true
    },
    "kernelspec": {
      "name": "python3",
      "display_name": "Python 3"
    },
    "accelerator": "GPU"
  },
  "cells": [
    {
      "cell_type": "markdown",
      "metadata": {
        "id": "view-in-github",
        "colab_type": "text"
      },
      "source": [
        "<a href=\"https://colab.research.google.com/github/kenanmorani/Machine_Learning_idu/blob/main/CIFAR-100/cifar100.ipynb\" target=\"_parent\"><img src=\"https://colab.research.google.com/assets/colab-badge.svg\" alt=\"Open In Colab\"/></a>"
      ]
    },
    {
      "cell_type": "code",
      "metadata": {
        "id": "lJmJvC7WlsLo",
        "colab": {
          "base_uri": "https://localhost:8080/"
        },
        "outputId": "b9269cab-5142-45a8-a121-7d98732d14a9"
      },
      "source": [
        "#!pip uninstall keras\n",
        "!pip install keras"
      ],
      "execution_count": 1,
      "outputs": [
        {
          "output_type": "stream",
          "text": [
            "Requirement already satisfied: keras in /usr/local/lib/python3.6/dist-packages (2.4.3)\n",
            "Requirement already satisfied: h5py in /usr/local/lib/python3.6/dist-packages (from keras) (2.10.0)\n",
            "Requirement already satisfied: pyyaml in /usr/local/lib/python3.6/dist-packages (from keras) (3.13)\n",
            "Requirement already satisfied: scipy>=0.14 in /usr/local/lib/python3.6/dist-packages (from keras) (1.4.1)\n",
            "Requirement already satisfied: numpy>=1.9.1 in /usr/local/lib/python3.6/dist-packages (from keras) (1.19.4)\n",
            "Requirement already satisfied: six in /usr/local/lib/python3.6/dist-packages (from h5py->keras) (1.15.0)\n"
          ],
          "name": "stdout"
        }
      ]
    },
    {
      "cell_type": "markdown",
      "metadata": {
        "id": "_Y97-DKjk3w1"
      },
      "source": [
        "# Imprting libraries, setting paths and exploring the dataset"
      ]
    },
    {
      "cell_type": "code",
      "metadata": {
        "id": "5Z_P_SNDltEW"
      },
      "source": [
        "from __future__ import print_function\n",
        "import keras\n",
        "from keras.datasets import cifar100\n",
        "from keras.models import Sequential\n",
        "from keras.layers import Dense, Dropout, Activation, Flatten\n",
        "from keras.layers import Conv2D, MaxPooling2D, ZeroPadding2D\n",
        "from keras.optimizers import SGD\n",
        "from keras.regularizers import l2\n",
        "from keras.callbacks import Callback, LearningRateScheduler, TensorBoard, ModelCheckpoint\n",
        "from keras.preprocessing.image import ImageDataGenerator\n",
        "from keras.utils import to_categorical\n",
        "#from keras.utils import print_summary\n",
        "from keras import backend as K\n",
        "import sys\n",
        "import os\n",
        "import numpy as np\n",
        "import matplotlib.pyplot as plt"
      ],
      "execution_count": 2,
      "outputs": []
    },
    {
      "cell_type": "code",
      "metadata": {
        "id": "SmGeRoXjg6ec"
      },
      "source": [
        "# Setting constans and directories\n",
        "BATCH_SIZE = 100\n",
        "NUM_CLASSES = 100  # The number of classes in the dataset is 100 classes of images\n",
        "EPOCHS = 165000\n",
        "INIT_DROPOUT_RATE = 0.5\n",
        "MOMENTUM_RATE = 0.9\n",
        "INIT_LEARNING_RATE = 0.01\n",
        "L2_DECAY_RATE = 0.0005\n",
        "CROP_SIZE = 32\n",
        "LOG_DIR = './logs'\n",
        "MODEL_PATH = './keras_cifar100_model.h5'"
      ],
      "execution_count": 3,
      "outputs": []
    },
    {
      "cell_type": "code",
      "metadata": {
        "id": "xFzCiHWrhNlw",
        "colab": {
          "base_uri": "https://localhost:8080/"
        },
        "outputId": "ddc3e2c6-381d-45ef-f259-8ccfc9cbd09f"
      },
      "source": [
        "# Loading the data using keras\n",
        "(x_train, y_train), (x_test, y_test) = cifar100.load_data()"
      ],
      "execution_count": 4,
      "outputs": [
        {
          "output_type": "stream",
          "text": [
            "Downloading data from https://www.cs.toronto.edu/~kriz/cifar-100-python.tar.gz\n",
            "169009152/169001437 [==============================] - 2s 0us/step\n"
          ],
          "name": "stdout"
        }
      ]
    },
    {
      "cell_type": "code",
      "metadata": {
        "id": "tiu4O0l3hBf3",
        "colab": {
          "base_uri": "https://localhost:8080/"
        },
        "outputId": "d1f25e77-670c-476a-b6b9-13376f79ac02"
      },
      "source": [
        "# Printing data as arrays\n",
        "print(x_train.shape,x_test.shape)\n",
        "print(y_train.shape,y_test.shape)"
      ],
      "execution_count": null,
      "outputs": [
        {
          "output_type": "stream",
          "text": [
            "(50000, 32, 32, 3) (10000, 32, 32, 3)\n",
            "(50000, 1) (10000, 1)\n"
          ],
          "name": "stdout"
        }
      ]
    },
    {
      "cell_type": "code",
      "metadata": {
        "id": "yw3m5kdXNf56",
        "colab": {
          "base_uri": "https://localhost:8080/",
          "height": 269
        },
        "outputId": "b2603593-6152-4436-beac-ed88da68c01f"
      },
      "source": [
        "# Looking at the first 16 images in the dataset \n",
        "m=4 # The number of images to show in each dataset X4\n",
        "k=0 # The index of the intial images in the dataset\n",
        "plt.figure(1)\n",
        "for i in range(0,m):\n",
        "  for j in range(0,m):\n",
        "    plt.subplot2grid((m,m),(i,j))\n",
        "    plt.imshow(x_train[k])\n",
        "    k=k+1\n",
        "plt.show()  # Images are all 32x32 in size with a depth demintion, thus 3 demintional data"
      ],
      "execution_count": null,
      "outputs": [
        {
          "output_type": "display_data",
          "data": {
            "image/png": "[encoded data removed]",
            "text/plain": [
              "<Figure size 432x288 with 16 Axes>"
            ]
          },
          "metadata": {
            "tags": [],
            "needs_background": "light"
          }
        }
      ]
    },
    {
      "cell_type": "markdown",
      "metadata": {
        "id": "N6IU8VvXmd0D"
      },
      "source": [
        "# Preprocessing the data"
      ]
    },
    {
      "cell_type": "code",
      "metadata": {
        "id": "IRM8NvWIhQsa",
        "colab": {
          "base_uri": "https://localhost:8080/"
        },
        "outputId": "fce2e293-7061-4a52-a661-72e2f753c71c"
      },
      "source": [
        "# changing the images to categorical \n",
        "y_train = to_categorical(y_train, NUM_CLASSES)\n",
        "y_test = to_categorical(y_test, NUM_CLASSES)\n",
        "print(y_train.shape,y_test.shape)"
      ],
      "execution_count": null,
      "outputs": [
        {
          "output_type": "stream",
          "text": [
            "(50000, 100) (10000, 100)\n"
          ],
          "name": "stdout"
        }
      ]
    },
    {
      "cell_type": "code",
      "metadata": {
        "id": "cHZ7qz7lhUBj"
      },
      "source": [
        "# Normalizing the dataset to floats between 0 and 1\n",
        "x_train = x_train.astype('float32')\n",
        "x_test = x_test.astype('float32')\n",
        "x_train /= 255.0\n",
        "x_test /= 255.0"
      ],
      "execution_count": null,
      "outputs": []
    },
    {
      "cell_type": "markdown",
      "metadata": {
        "id": "6XvBEMQSnP6p"
      },
      "source": [
        "# Building a first model"
      ]
    },
    {
      "cell_type": "code",
      "metadata": {
        "id": "TTHONrvKhWsp"
      },
      "source": [
        "# Building a CNN model\n",
        "model = Sequential()\n",
        "model.add(ZeroPadding2D(4, input_shape=x_train.shape[1:]))\n",
        "# Stack 1: Convolution network layer using elu for activation, Maxpooling and dropout\n",
        "model.add(Conv2D(384, (3, 3), padding='same', kernel_regularizer=l2(0.01)))\n",
        "model.add(Activation('elu'))\n",
        "model.add(MaxPooling2D(pool_size=(2, 2), padding='same'))\n",
        "model.add(Dropout(INIT_DROPOUT_RATE))\n",
        "# Stack 2: 3 Convolution network layers using elu for activation, Maxpooling and dropout\n",
        "model.add(Conv2D(384, (1, 1), padding='same', kernel_regularizer=l2(L2_DECAY_RATE)))\n",
        "model.add(Conv2D(384, (2, 2), padding='same', kernel_regularizer=l2(L2_DECAY_RATE)))\n",
        "model.add(Conv2D(640, (2, 2), padding='same', kernel_regularizer=l2(L2_DECAY_RATE)))\n",
        "model.add(Conv2D(640, (2, 2), padding='same', kernel_regularizer=l2(L2_DECAY_RATE)))\n",
        "model.add(Activation('elu'))\n",
        "model.add(MaxPooling2D(pool_size=(2, 2), padding='same'))\n",
        "model.add(Dropout(INIT_DROPOUT_RATE))\n",
        "# Stack 3: 4 Convolution network layers using elu for activation, Maxpooling and dropout\n",
        "model.add(Conv2D(640, (3, 3), padding='same', kernel_regularizer=l2(L2_DECAY_RATE)))\n",
        "model.add(Conv2D(768, (2, 2), padding='same', kernel_regularizer=l2(L2_DECAY_RATE)))\n",
        "model.add(Conv2D(768, (2, 2), padding='same', kernel_regularizer=l2(L2_DECAY_RATE)))\n",
        "model.add(Conv2D(768, (2, 2), padding='same', kernel_regularizer=l2(L2_DECAY_RATE)))\n",
        "model.add(Activation('elu'))\n",
        "model.add(MaxPooling2D(pool_size=(2, 2), padding='same'))\n",
        "model.add(Dropout(INIT_DROPOUT_RATE))\n",
        "# Stack 4: 3 Convolution network layers using elu for activation, Maxpooling and dropout\n",
        "model.add(Conv2D(768, (1, 1), padding='same', kernel_regularizer=l2(L2_DECAY_RATE)))\n",
        "model.add(Conv2D(896, (2, 2), padding='same', kernel_regularizer=l2(L2_DECAY_RATE)))\n",
        "model.add(Conv2D(896, (2, 2), padding='same', kernel_regularizer=l2(L2_DECAY_RATE)))\n",
        "model.add(Activation('elu'))\n",
        "model.add(MaxPooling2D(pool_size=(2, 2), padding='same'))\n",
        "model.add(Dropout(INIT_DROPOUT_RATE))\n",
        "# Stack 5: 3 Convolution network layers using elu for activation, Maxpooling and dropout\n",
        "model.add(Conv2D(896, (3, 3), padding='same', kernel_regularizer=l2(L2_DECAY_RATE)))\n",
        "model.add(Conv2D(1024, (2, 2), padding='same', kernel_regularizer=l2(L2_DECAY_RATE)))\n",
        "model.add(Conv2D(1024, (2, 2), padding='same', kernel_regularizer=l2(L2_DECAY_RATE)))\n",
        "model.add(Activation('elu'))\n",
        "model.add(MaxPooling2D(pool_size=(2, 2), padding='same'))\n",
        "model.add(Dropout(INIT_DROPOUT_RATE))\n",
        "# Stack 6: 3 Convolution network layers using elu for activation, Maxpooling and dropout\n",
        "model.add(Conv2D(1024, (1, 1), padding='same', kernel_regularizer=l2(L2_DECAY_RATE)))\n",
        "model.add(Conv2D(1152, (2, 2), padding='same', kernel_regularizer=l2(L2_DECAY_RATE)))\n",
        "model.add(Activation('elu'))\n",
        "model.add(MaxPooling2D(pool_size=(2, 2), padding='same'))\n",
        "model.add(Dropout(INIT_DROPOUT_RATE))\n",
        "# Stack 7: 1 Convolution network layer using elu for activation, Maxpooling and dropout\n",
        "model.add(Conv2D(1152, (1, 1), padding='same', kernel_regularizer=l2(L2_DECAY_RATE)))\n",
        "model.add(Activation('elu'))\n",
        "model.add(MaxPooling2D(pool_size=(2, 2), padding='same'))\n",
        "model.add(Dropout(INIT_DROPOUT_RATE))\n",
        "model.add(Flatten())  # Adding flatten function\n",
        "model.add(Dense(NUM_CLASSES)) # Adding dense function(number of arguments here is the number of the classes in the dataset)\n",
        "model.add(Activation('softmax'))  # Choosing f\\softmax as an activation function at the output"
      ],
      "execution_count": null,
      "outputs": []
    },
    {
      "cell_type": "code",
      "metadata": {
        "id": "oc61a1uVheJZ",
        "colab": {
          "base_uri": "https://localhost:8080/"
        },
        "outputId": "aedf6e30-edcc-4cbb-9810-ea1180a9c683"
      },
      "source": [
        "model.summary()"
      ],
      "execution_count": null,
      "outputs": [
        {
          "output_type": "stream",
          "text": [
            "Model: \"sequential_1\"\n",
            "_________________________________________________________________\n",
            "Layer (type)                 Output Shape              Param #   \n",
            "=================================================================\n",
            "zero_padding2d_1 (ZeroPaddin (None, 40, 40, 3)         0         \n",
            "_________________________________________________________________\n",
            "conv2d_18 (Conv2D)           (None, 40, 40, 384)       10752     \n",
            "_________________________________________________________________\n",
            "activation_8 (Activation)    (None, 40, 40, 384)       0         \n",
            "_________________________________________________________________\n",
            "max_pooling2d_7 (MaxPooling2 (None, 20, 20, 384)       0         \n",
            "_________________________________________________________________\n",
            "dropout_7 (Dropout)          (None, 20, 20, 384)       0         \n",
            "_________________________________________________________________\n",
            "conv2d_19 (Conv2D)           (None, 20, 20, 384)       147840    \n",
            "_________________________________________________________________\n",
            "conv2d_20 (Conv2D)           (None, 20, 20, 384)       590208    \n",
            "_________________________________________________________________\n",
            "conv2d_21 (Conv2D)           (None, 20, 20, 640)       983680    \n",
            "_________________________________________________________________\n",
            "conv2d_22 (Conv2D)           (None, 20, 20, 640)       1639040   \n",
            "_________________________________________________________________\n",
            "activation_9 (Activation)    (None, 20, 20, 640)       0         \n",
            "_________________________________________________________________\n",
            "max_pooling2d_8 (MaxPooling2 (None, 10, 10, 640)       0         \n",
            "_________________________________________________________________\n",
            "dropout_8 (Dropout)          (None, 10, 10, 640)       0         \n",
            "_________________________________________________________________\n",
            "conv2d_23 (Conv2D)           (None, 10, 10, 640)       3687040   \n",
            "_________________________________________________________________\n",
            "conv2d_24 (Conv2D)           (None, 10, 10, 768)       1966848   \n",
            "_________________________________________________________________\n",
            "conv2d_25 (Conv2D)           (None, 10, 10, 768)       2360064   \n",
            "_________________________________________________________________\n",
            "conv2d_26 (Conv2D)           (None, 10, 10, 768)       2360064   \n",
            "_________________________________________________________________\n",
            "activation_10 (Activation)   (None, 10, 10, 768)       0         \n",
            "_________________________________________________________________\n",
            "max_pooling2d_9 (MaxPooling2 (None, 5, 5, 768)         0         \n",
            "_________________________________________________________________\n",
            "dropout_9 (Dropout)          (None, 5, 5, 768)         0         \n",
            "_________________________________________________________________\n",
            "conv2d_27 (Conv2D)           (None, 5, 5, 768)         590592    \n",
            "_________________________________________________________________\n",
            "conv2d_28 (Conv2D)           (None, 5, 5, 896)         2753408   \n",
            "_________________________________________________________________\n",
            "conv2d_29 (Conv2D)           (None, 5, 5, 896)         3212160   \n",
            "_________________________________________________________________\n",
            "activation_11 (Activation)   (None, 5, 5, 896)         0         \n",
            "_________________________________________________________________\n",
            "max_pooling2d_10 (MaxPooling (None, 3, 3, 896)         0         \n",
            "_________________________________________________________________\n",
            "dropout_10 (Dropout)         (None, 3, 3, 896)         0         \n",
            "_________________________________________________________________\n",
            "conv2d_30 (Conv2D)           (None, 3, 3, 896)         7226240   \n",
            "_________________________________________________________________\n",
            "conv2d_31 (Conv2D)           (None, 3, 3, 1024)        3671040   \n",
            "_________________________________________________________________\n",
            "conv2d_32 (Conv2D)           (None, 3, 3, 1024)        4195328   \n",
            "_________________________________________________________________\n",
            "activation_12 (Activation)   (None, 3, 3, 1024)        0         \n",
            "_________________________________________________________________\n",
            "max_pooling2d_11 (MaxPooling (None, 2, 2, 1024)        0         \n",
            "_________________________________________________________________\n",
            "dropout_11 (Dropout)         (None, 2, 2, 1024)        0         \n",
            "_________________________________________________________________\n",
            "conv2d_33 (Conv2D)           (None, 2, 2, 1024)        1049600   \n",
            "_________________________________________________________________\n",
            "conv2d_34 (Conv2D)           (None, 2, 2, 1152)        4719744   \n",
            "_________________________________________________________________\n",
            "activation_13 (Activation)   (None, 2, 2, 1152)        0         \n",
            "_________________________________________________________________\n",
            "max_pooling2d_12 (MaxPooling (None, 1, 1, 1152)        0         \n",
            "_________________________________________________________________\n",
            "dropout_12 (Dropout)         (None, 1, 1, 1152)        0         \n",
            "_________________________________________________________________\n",
            "conv2d_35 (Conv2D)           (None, 1, 1, 1152)        1328256   \n",
            "_________________________________________________________________\n",
            "activation_14 (Activation)   (None, 1, 1, 1152)        0         \n",
            "_________________________________________________________________\n",
            "max_pooling2d_13 (MaxPooling (None, 1, 1, 1152)        0         \n",
            "_________________________________________________________________\n",
            "dropout_13 (Dropout)         (None, 1, 1, 1152)        0         \n",
            "_________________________________________________________________\n",
            "flatten_1 (Flatten)          (None, 1152)              0         \n",
            "_________________________________________________________________\n",
            "dense_1 (Dense)              (None, 100)               115300    \n",
            "_________________________________________________________________\n",
            "activation_15 (Activation)   (None, 100)               0         \n",
            "=================================================================\n",
            "Total params: 42,607,204\n",
            "Trainable params: 42,607,204\n",
            "Non-trainable params: 0\n",
            "_________________________________________________________________\n"
          ],
          "name": "stdout"
        }
      ]
    },
    {
      "cell_type": "code",
      "metadata": {
        "id": "1s0DEbopfV3K"
      },
      "source": [
        "model.compile(loss='categorical_crossentropy', optimizer='adam', metrics=['accuracy'])"
      ],
      "execution_count": null,
      "outputs": []
    },
    {
      "cell_type": "code",
      "metadata": {
        "colab": {
          "base_uri": "https://localhost:8080/"
        },
        "id": "obG5t5zpgGqF",
        "outputId": "adff10ba-d592-4e13-af97-94c57b98deb4"
      },
      "source": [
        "hist = model.fit(x_train, y_train, batch_size=256, epochs=7, validation_split=0.2)"
      ],
      "execution_count": null,
      "outputs": [
        {
          "output_type": "stream",
          "text": [
            "Epoch 1/7\n",
            "157/157 [==============================] - 236s 1s/step - loss: 25.0984 - accuracy: 0.0109 - val_loss: 11.7515 - val_accuracy: 0.0098\n",
            "Epoch 2/7\n",
            "157/157 [==============================] - 218s 1s/step - loss: 12.3220 - accuracy: 0.0104 - val_loss: 11.4313 - val_accuracy: 0.0101\n",
            "Epoch 3/7\n",
            "157/157 [==============================] - 218s 1s/step - loss: 11.9487 - accuracy: 0.0089 - val_loss: 11.1389 - val_accuracy: 0.0090\n",
            "Epoch 4/7\n",
            "157/157 [==============================] - 218s 1s/step - loss: 11.5762 - accuracy: 0.0110 - val_loss: 10.8238 - val_accuracy: 0.0104\n",
            "Epoch 5/7\n",
            "157/157 [==============================] - 218s 1s/step - loss: 11.2296 - accuracy: 0.0094 - val_loss: 10.5528 - val_accuracy: 0.0087\n",
            "Epoch 6/7\n",
            "157/157 [==============================] - 218s 1s/step - loss: 10.9092 - accuracy: 0.0108 - val_loss: 10.2706 - val_accuracy: 0.0105\n",
            "Epoch 7/7\n",
            "157/157 [==============================] - 212s 1s/step - loss: 909892474114.6278 - accuracy: 0.0110 - val_loss: 23.6829 - val_accuracy: 0.0104\n"
          ],
          "name": "stdout"
        }
      ]
    },
    {
      "cell_type": "code",
      "metadata": {
        "colab": {
          "base_uri": "https://localhost:8080/"
        },
        "id": "oLUAuTdgnv_b",
        "outputId": "04091e16-ce80-4d62-db9b-bf25963b181a"
      },
      "source": [
        "# Evaluating the model \n",
        "model.evaluate(x_test, y_test)"
      ],
      "execution_count": null,
      "outputs": [
        {
          "output_type": "stream",
          "text": [
            "313/313 [==============================] - 20s 63ms/step - loss: 23.6765 - accuracy: 0.0100\n"
          ],
          "name": "stdout"
        },
        {
          "output_type": "execute_result",
          "data": {
            "text/plain": [
              "[23.67653465270996, 0.009999999776482582]"
            ]
          },
          "metadata": {
            "tags": []
          },
          "execution_count": 32
        }
      ]
    },
    {
      "cell_type": "code",
      "metadata": {
        "colab": {
          "base_uri": "https://localhost:8080/",
          "height": 296
        },
        "id": "ngx5tHgsooVh",
        "outputId": "de7f678d-1cc4-4e8e-a96b-954583ae4a6c"
      },
      "source": [
        "# Visualizing the model's accuracy\n",
        "plt.subplot(2,1,1)\n",
        "plt.plot(hist.history['accuracy'])\n",
        "#plt.plot(hist.history['val_accuracy'])\n",
        "#plt.title('The Models Accuracy')\n",
        "plt.ylabel('Accuracy')\n",
        "plt.xlabel('Epoch')\n",
        "#plt.legend('Train', 'Val', loc='upper_right')\n",
        "#plt.show()\n",
        "plt.subplot(2,1,2)\n",
        "#plt.plot(hist.history['accuracy'])\n",
        "plt.plot(hist.history['val_accuracy'])\n",
        "#plt.title('The Models Accuracy')\n",
        "plt.ylabel('Val_Accuracy')\n",
        "plt.xlabel('Epoch')\n",
        "#plt.legend('Train', 'Val', loc='upper_right')\n",
        "#plt.show()"
      ],
      "execution_count": null,
      "outputs": [
        {
          "output_type": "execute_result",
          "data": {
            "text/plain": [
              "Text(0.5, 0, 'Epoch')"
            ]
          },
          "metadata": {
            "tags": []
          },
          "execution_count": 33
        },
        {
          "output_type": "display_data",
          "data": {
            "image/png": "[encoded data removed]",
            "text/plain": [
              "<Figure size 432x288 with 2 Axes>"
            ]
          },
          "metadata": {
            "tags": [],
            "needs_background": "light"
          }
        }
      ]
    },
    {
      "cell_type": "markdown",
      "metadata": {
        "id": "28L1IJHG6GNK"
      },
      "source": [
        "# Building a second model"
      ]
    },
    {
      "cell_type": "code",
      "metadata": {
        "colab": {
          "base_uri": "https://localhost:8080/"
        },
        "id": "v6M7kBgP6hoa",
        "outputId": "4cc74357-8bdf-4d98-c622-41d13f2a7605"
      },
      "source": [
        "# The second model is architectured using tflearn library\n",
        "!pip install tflearn"
      ],
      "execution_count": null,
      "outputs": [
        {
          "output_type": "stream",
          "text": [
            "Collecting tflearn\n",
            "\u001b[?25l  Downloading https://files.pythonhosted.org/packages/e7/3c/0b156d08ef3d4e2a8009ecab2af1ad2e304f6fb99562b6271c68a74a4397/tflearn-0.5.0.tar.gz (107kB)\n",
            "\r\u001b[K     |███                             | 10kB 22.8MB/s eta 0:00:01\r\u001b[K     |██████                          | 20kB 30.0MB/s eta 0:00:01\r\u001b[K     |█████████▏                      | 30kB 24.1MB/s eta 0:00:01\r\u001b[K     |████████████▏                   | 40kB 27.9MB/s eta 0:00:01\r\u001b[K     |███████████████▎                | 51kB 25.9MB/s eta 0:00:01\r\u001b[K     |██████████████████▎             | 61kB 18.3MB/s eta 0:00:01\r\u001b[K     |█████████████████████▍          | 71kB 17.1MB/s eta 0:00:01\r\u001b[K     |████████████████████████▍       | 81kB 17.1MB/s eta 0:00:01\r\u001b[K     |███████████████████████████▌    | 92kB 17.2MB/s eta 0:00:01\r\u001b[K     |██████████████████████████████▌ | 102kB 17.2MB/s eta 0:00:01\r\u001b[K     |████████████████████████████████| 112kB 17.2MB/s \n",
            "\u001b[?25hRequirement already satisfied: numpy in /usr/local/lib/python3.6/dist-packages (from tflearn) (1.19.4)\n",
            "Requirement already satisfied: six in /usr/local/lib/python3.6/dist-packages (from tflearn) (1.15.0)\n",
            "Requirement already satisfied: Pillow in /usr/local/lib/python3.6/dist-packages (from tflearn) (7.0.0)\n",
            "Building wheels for collected packages: tflearn\n",
            "  Building wheel for tflearn (setup.py) ... \u001b[?25l\u001b[?25hdone\n",
            "  Created wheel for tflearn: filename=tflearn-0.5.0-cp36-none-any.whl size=127301 sha256=26c6fb84cf6bded5342cfdae62d4b7d007f8b366244ed2b3ae0cc3c4b19a36e8\n",
            "  Stored in directory: /root/.cache/pip/wheels/31/d2/ed/fb9a0d301dd9586c11e9547120278e624227f22fd5f4baf744\n",
            "Successfully built tflearn\n",
            "Installing collected packages: tflearn\n",
            "Successfully installed tflearn-0.5.0\n"
          ],
          "name": "stdout"
        }
      ]
    },
    {
      "cell_type": "code",
      "metadata": {
        "colab": {
          "base_uri": "https://localhost:8080/"
        },
        "id": "T2kVPfdg6hc4",
        "outputId": "127648cc-52c7-4863-a6df-53774efd410f"
      },
      "source": [
        "import tflearn\n",
        "from tflearn.data_utils import shuffle, to_categorical\n",
        "from tflearn.layers.core import input_data, dropout, fully_connected\n",
        "from tflearn.layers.conv import conv_2d, max_pool_2d\n",
        "from tflearn.layers.estimator import regression\n",
        "from tflearn.data_preprocessing import ImagePreprocessing\n",
        "from tflearn.data_augmentation import ImageAugmentation\n",
        "import numpy as np"
      ],
      "execution_count": null,
      "outputs": [
        {
          "output_type": "stream",
          "text": [
            "WARNING:tensorflow:From /usr/local/lib/python3.6/dist-packages/tensorflow/python/compat/v2_compat.py:96: disable_resource_variables (from tensorflow.python.ops.variable_scope) is deprecated and will be removed in a future version.\n",
            "Instructions for updating:\n",
            "non-resource variables are not supported in the long term\n"
          ],
          "name": "stdout"
        }
      ]
    },
    {
      "cell_type": "code",
      "metadata": {
        "colab": {
          "base_uri": "https://localhost:8080/"
        },
        "id": "1unKr03A6EWJ",
        "outputId": "c13048b6-8641-4c1d-9baf-3dd70431da3c"
      },
      "source": [
        "network = input_data(shape=[None, 32, 32, 3])\n",
        "network = conv_2d(network, 32, 3, strides=1, padding='same', activation='relu', bias=True, \n",
        "                  bias_init='zeros', weights_init='uniform_scaling')\n",
        "network = max_pool_2d(network, 2 , strides=None, padding='same')\n",
        "network = conv_2d(network, 64, 3, strides=1, padding='same', activation='relu', bias=True, \n",
        "                  bias_init='zeros', weights_init='uniform_scaling')\n",
        "network = conv_2d(network, 64, 3 , strides=1, padding='same', activation='relu', bias=True, \n",
        "                  bias_init='zeros', weights_init='uniform_scaling')\n",
        "network = max_pool_2d(network, 2 , strides=None, padding='same')\n",
        "network = fully_connected(network, 600, activation='relu')\n",
        "network = dropout(network, 0.5)\n",
        "network = fully_connected(network, 100, activation='softmax')\n",
        "network = regression(network, optimizer='adam',\n",
        "                     loss='categorical_crossentropy',\n",
        "                     learning_rate=0.001)"
      ],
      "execution_count": null,
      "outputs": [
        {
          "output_type": "stream",
          "text": [
            "WARNING:tensorflow:From /usr/local/lib/python3.6/dist-packages/tflearn/initializations.py:110: calling UniformUnitScaling.__init__ (from tensorflow.python.ops.init_ops) with dtype is deprecated and will be removed in a future version.\n",
            "Instructions for updating:\n",
            "Call initializer instance with the dtype argument instead of passing it to the constructor\n",
            "WARNING:tensorflow:From /usr/local/lib/python3.6/dist-packages/tensorflow/python/util/deprecation.py:538: UniformUnitScaling.__init__ (from tensorflow.python.ops.init_ops) is deprecated and will be removed in a future version.\n",
            "Instructions for updating:\n",
            "Use tf.initializers.variance_scaling instead with distribution=uniform to get equivalent behavior.\n",
            "WARNING:tensorflow:From /usr/local/lib/python3.6/dist-packages/tflearn/initializations.py:165: calling TruncatedNormal.__init__ (from tensorflow.python.ops.init_ops) with dtype is deprecated and will be removed in a future version.\n",
            "Instructions for updating:\n",
            "Call initializer instance with the dtype argument instead of passing it to the constructor\n",
            "WARNING:tensorflow:From /usr/local/lib/python3.6/dist-packages/tensorflow/python/util/dispatch.py:201: calling dropout (from tensorflow.python.ops.nn_ops) with keep_prob is deprecated and will be removed in a future version.\n",
            "Instructions for updating:\n",
            "Please use `rate` instead of `keep_prob`. Rate should be set to `rate = 1 - keep_prob`.\n"
          ],
          "name": "stdout"
        }
      ]
    },
    {
      "cell_type": "code",
      "metadata": {
        "colab": {
          "base_uri": "https://localhost:8080/"
        },
        "id": "o-CdUuyMGhMb",
        "outputId": "9b965757-cc81-434b-9603-ea3c44878e16"
      },
      "source": [
        "histt = model.fit(x_train, y_train ,n_epoch=50, shuffle=True, validation_set=(x_test, y_test),\n",
        "          show_metric=True, batch_size=100 , run_id=\"withoutaugpre\")"
      ],
      "execution_count": null,
      "outputs": [
        {
          "output_type": "stream",
          "text": [
            "Training Step: 49999  | total loss: \u001b[1m\u001b[32m0.22247\u001b[0m\u001b[0m | time: 6.928s\n",
            "| Adam | epoch: 100 | loss: 0.22247 - acc: 0.9327 -- iter: 49900/50000\n",
            "Training Step: 50000  | total loss: \u001b[1m\u001b[32m0.22574\u001b[0m\u001b[0m | time: 8.213s\n",
            "| Adam | epoch: 100 | loss: 0.22574 - acc: 0.9285 | val_loss: 5.71630 - val_acc: 0.3791 -- iter: 50000/50000\n",
            "--\n"
          ],
          "name": "stdout"
        }
      ]
    },
    {
      "cell_type": "code",
      "metadata": {
        "colab": {
          "base_uri": "https://localhost:8080/",
          "height": 163
        },
        "id": "QvqCKOvTFoO3",
        "outputId": "5c9dfae6-b80b-4cc2-c675-fa24d03d93f8"
      },
      "source": [
        "plt.plot(histt.history['acc'])"
      ],
      "execution_count": null,
      "outputs": [
        {
          "output_type": "error",
          "ename": "AttributeError",
          "evalue": "ignored",
          "traceback": [
            "\u001b[0;31m---------------------------------------------------------------------------\u001b[0m",
            "\u001b[0;31mAttributeError\u001b[0m                            Traceback (most recent call last)",
            "\u001b[0;32m<ipython-input-39-62b3cb17ecf8>\u001b[0m in \u001b[0;36m<module>\u001b[0;34m()\u001b[0m\n\u001b[0;32m----> 1\u001b[0;31m \u001b[0mplt\u001b[0m\u001b[0;34m.\u001b[0m\u001b[0mplot\u001b[0m\u001b[0;34m(\u001b[0m\u001b[0mhistt\u001b[0m\u001b[0;34m.\u001b[0m\u001b[0mhistory\u001b[0m\u001b[0;34m[\u001b[0m\u001b[0;34m'acc'\u001b[0m\u001b[0;34m]\u001b[0m\u001b[0;34m)\u001b[0m\u001b[0;34m\u001b[0m\u001b[0;34m\u001b[0m\u001b[0m\n\u001b[0m",
            "\u001b[0;31mAttributeError\u001b[0m: 'NoneType' object has no attribute 'history'"
          ]
        }
      ]
    },
    {
      "cell_type": "code",
      "metadata": {
        "colab": {
          "base_uri": "https://localhost:8080/"
        },
        "id": "oLc7Z0nVFGA8",
        "outputId": "cb6ae23a-6c42-4407-e13b-17bcb6939997"
      },
      "source": [
        "# Evaluating the mode\n",
        "scores = model.evaluate(x_test, y_test, verbose = 0)\n",
        "print('Test loss:', score[0]) \n",
        "print('Test accuracy:', score[1]) "
      ],
      "execution_count": null,
      "outputs": [
        {
          "output_type": "execute_result",
          "data": {
            "text/plain": [
              "[0.3791]"
            ]
          },
          "metadata": {
            "tags": []
          },
          "execution_count": 40
        }
      ]
    },
    {
      "cell_type": "code",
      "metadata": {
        "colab": {
          "base_uri": "https://localhost:8080/",
          "height": 231
        },
        "id": "WOQhaDbqFQCZ",
        "outputId": "01804310-b10d-417f-d8c0-fcd71611e2af"
      },
      "source": [
        "# Visualizing the model's accuracy\n",
        "plt.plot(histt.history['accuracy'])\n",
        "#plt.plot(hist.history['val_accuracy'])\n",
        "#plt.title('The Models Accuracy')\n",
        "#plt.ylabel('Accuracy')\n",
        "#plt.xlabel('Epoch')\n",
        "#plt.legend('Train', 'Val', loc='upper_right')\n",
        "#plt.show()"
      ],
      "execution_count": null,
      "outputs": [
        {
          "output_type": "error",
          "ename": "AttributeError",
          "evalue": "ignored",
          "traceback": [
            "\u001b[0;31m---------------------------------------------------------------------------\u001b[0m",
            "\u001b[0;31mAttributeError\u001b[0m                            Traceback (most recent call last)",
            "\u001b[0;32m<ipython-input-42-f9ee6569916a>\u001b[0m in \u001b[0;36m<module>\u001b[0;34m()\u001b[0m\n\u001b[1;32m      1\u001b[0m \u001b[0;31m# Visualizing the model's accuracy\u001b[0m\u001b[0;34m\u001b[0m\u001b[0;34m\u001b[0m\u001b[0;34m\u001b[0m\u001b[0m\n\u001b[0;32m----> 2\u001b[0;31m \u001b[0mplt\u001b[0m\u001b[0;34m.\u001b[0m\u001b[0mplot\u001b[0m\u001b[0;34m(\u001b[0m\u001b[0mhistt\u001b[0m\u001b[0;34m.\u001b[0m\u001b[0mhistory\u001b[0m\u001b[0;34m[\u001b[0m\u001b[0;34m'accuracy'\u001b[0m\u001b[0;34m]\u001b[0m\u001b[0;34m)\u001b[0m\u001b[0;34m\u001b[0m\u001b[0;34m\u001b[0m\u001b[0m\n\u001b[0m\u001b[1;32m      3\u001b[0m \u001b[0;31m#plt.plot(hist.history['val_accuracy'])\u001b[0m\u001b[0;34m\u001b[0m\u001b[0;34m\u001b[0m\u001b[0;34m\u001b[0m\u001b[0m\n\u001b[1;32m      4\u001b[0m \u001b[0;31m#plt.title('The Models Accuracy')\u001b[0m\u001b[0;34m\u001b[0m\u001b[0;34m\u001b[0m\u001b[0;34m\u001b[0m\u001b[0m\n\u001b[1;32m      5\u001b[0m \u001b[0;31m#plt.ylabel('Accuracy')\u001b[0m\u001b[0;34m\u001b[0m\u001b[0;34m\u001b[0m\u001b[0;34m\u001b[0m\u001b[0m\n",
            "\u001b[0;31mAttributeError\u001b[0m: 'NoneType' object has no attribute 'history'"
          ]
        }
      ]
    },
    {
      "cell_type": "code",
      "metadata": {
        "id": "3J4WWEAFhhTs"
      },
      "source": [
        "def lr_scheduler(epoch, lr, step_decay = 0.1):\n",
        "    return float(lr * step_decay) if epoch == 35.000 else lr"
      ],
      "execution_count": null,
      "outputs": []
    },
    {
      "cell_type": "code",
      "metadata": {
        "id": "GaQUwhcWhlIb"
      },
      "source": [
        "def dr_scheduler(epoch, layers, rate_list = [0.0, .1, .2, .3, .4, .5, 0.0], rate_factor = 1.5):\n",
        "    if epoch == 85000:\n",
        "        for i, layer in enumerate([l for l in layers if \"dropout\" in np.str.lower(l.name)]):\n",
        "            layer.rate = layer.rate + rate_list[i]\n",
        "    elif epoch == 135000:\n",
        "        for i, layer in enumerate([l for l in layers if \"dropout\" in np.str.lower(l.name)]):\n",
        "            layer.rate = layer.rate + layer.rate * rate_factor if layer.rate <= 0.66 else 1\n",
        "    return layers"
      ],
      "execution_count": null,
      "outputs": []
    },
    {
      "cell_type": "code",
      "metadata": {
        "id": "MovVkmAchoKu"
      },
      "source": [
        "class StepLearningRateSchedulerAt(LearningRateScheduler):\n",
        "    def __init__(self, schedule, verbose = 0): \n",
        "        super(LearningRateScheduler, self).__init__()\n",
        "        self.schedule = schedule\n",
        "        self.verbose = verbose\n",
        "    \n",
        "    def on_epoch_begin(self, epoch, logs=None): \n",
        "        if not hasattr(self.model.optimizer, 'lr'):\n",
        "            raise ValueError('Optimizer must have a \"lr\" attribute.')\n",
        "            \n",
        "        lr = float(K.get_value(self.model.optimizer.lr))\n",
        "        lr = self.schedule(epoch, lr)\n",
        "       \n",
        "        if not isinstance(lr, (float, np.float32, np.float64)):\n",
        "            raise ValueError('The output of the \"schedule\" function ' 'should be float.')\n",
        "        \n",
        "        K.set_value(self.model.optimizer.lr, lr)\n",
        "        if self.verbose > 0: \n",
        "            print('\\nEpoch %05d: LearningRateScheduler reducing learning ' 'rate to %s.' % (epoch + 1, lr))"
      ],
      "execution_count": null,
      "outputs": []
    },
    {
      "cell_type": "code",
      "metadata": {
        "id": "A8jnrhYnhq1g"
      },
      "source": [
        "\n",
        "class DropoutRateScheduler(Callback):\n",
        "    def __init__(self, schedule, verbose = 0):\n",
        "        super(Callback, self).__init__()\n",
        "        self.schedule = schedule\n",
        "        self.verbose = verbose\n",
        "        \n",
        "    def on_epoch_begin(self, epoch, logs=None):\n",
        "        if not hasattr(self.model, 'layers'):\n",
        "            raise ValueError('Model must have a \"layers\" attribute.')\n",
        "            \n",
        "        layers = self.model.layers\n",
        "        layers = self.schedule(epoch, layers)\n",
        "        \n",
        "        if not isinstance(layers, list):\n",
        "            raise ValueError('The output of the \"schedule\" function should be list.')\n",
        "        \n",
        "        self.model.layers = layers\n",
        "        \n",
        "        if self.verbose > 0:\n",
        "            for layer in [l for l in self.model.layers if \"dropout\" in np.str.lower(l.name)]:\n",
        "                print('\\nEpoch %05d: Dropout rate for layer %s: %s.' % (epoch + 1, layer.name, layer.rate))"
      ],
      "execution_count": null,
      "outputs": []
    },
    {
      "cell_type": "code",
      "metadata": {
        "id": "l58Qdvq1hu6U"
      },
      "source": [
        "def random_crop(img, random_crop_size):\n",
        "    height, width = img.shape[0], img.shape[1]\n",
        "    dy, dx = random_crop_size\n",
        "    x = np.random.randint(0, width - dx + 1)\n",
        "    y = np.random.randint(0, height - dy + 1)\n",
        "    return img[y:(y+dy), x:(x+dx), :]"
      ],
      "execution_count": null,
      "outputs": []
    },
    {
      "cell_type": "code",
      "metadata": {
        "id": "OhCT2Vnchz_y"
      },
      "source": [
        "def crop_generator(batches, crop_length, num_channel = 3):\n",
        "    while True:\n",
        "        batch_x, batch_y = next(batches)\n",
        "        batch_crops = np.zeros((batch_x.shape[0], crop_length, crop_length, num_channel))\n",
        "        for i in range(batch_x.shape[0]):\n",
        "            batch_crops[i] = random_crop(batch_x[i], (crop_length, crop_length))\n",
        "        yield (batch_crops, batch_y)"
      ],
      "execution_count": null,
      "outputs": []
    },
    {
      "cell_type": "code",
      "metadata": {
        "id": "vRCYaXZXh3Wk"
      },
      "source": [
        "opt = SGD(lr=INIT_LEARNING_RATE, momentum=MOMENTUM_RATE)"
      ],
      "execution_count": null,
      "outputs": []
    },
    {
      "cell_type": "code",
      "metadata": {
        "id": "Uh8Juu6qh5Vj"
      },
      "source": [
        "\n",
        "lr_rate_scheduler = StepLearningRateSchedulerAt(lr_scheduler)\n",
        "dropout_scheduler = DropoutRateScheduler(dr_scheduler)\n",
        "tensorboard = TensorBoard(log_dir=LOG_DIR, batch_size=BATCH_SIZE)\n",
        "checkpointer = ModelCheckpoint(MODEL_PATH, monitor='val_loss', verbose=1, save_best_only=True)"
      ],
      "execution_count": null,
      "outputs": []
    },
    {
      "cell_type": "code",
      "metadata": {
        "id": "z-laMEyth7j7",
        "colab": {
          "base_uri": "https://localhost:8080/",
          "height": 106
        },
        "outputId": "a4bcf577-acd0-45ae-f92c-1bd325558f3a"
      },
      "source": [
        "model.compile(optimizer=opt,\n",
        "              loss='categorical_crossentropy',\n",
        "              metrics=['accuracy', 'top_k_categorical_accuracy'])"
      ],
      "execution_count": null,
      "outputs": [
        {
          "output_type": "stream",
          "text": [
            "W0713 05:45:55.461751 140594951563136 deprecation_wrapper.py:119] From /usr/local/lib/python3.6/dist-packages/keras/optimizers.py:711: The name tf.train.Optimizer is deprecated. Please use tf.compat.v1.train.Optimizer instead.\n",
            "\n",
            "W0713 05:45:55.484884 140594951563136 deprecation_wrapper.py:119] From /usr/local/lib/python3.6/dist-packages/keras/backend/tensorflow_backend.py:2884: The name tf.log is deprecated. Please use tf.math.log instead.\n",
            "\n"
          ],
          "name": "stderr"
        }
      ]
    },
    {
      "cell_type": "code",
      "metadata": {
        "id": "5Ag_Z3rBh9vr"
      },
      "source": [
        "datagen = ImageDataGenerator(samplewise_center=True,\n",
        "                             zca_whitening=True,\n",
        "                             horizontal_flip=True\n",
        "                            )"
      ],
      "execution_count": null,
      "outputs": []
    },
    {
      "cell_type": "code",
      "metadata": {
        "id": "9GXZOaBoiBJM"
      },
      "source": [
        "datagen.fit(x_train)"
      ],
      "execution_count": null,
      "outputs": []
    },
    {
      "cell_type": "code",
      "metadata": {
        "id": "Q86GEHlaiD61"
      },
      "source": [
        "train_flow = datagen.flow(x_train, y_train, batch_size=BATCH_SIZE)\n",
        "train_flow_w_crops = crop_generator(train_flow, CROP_SIZE)\n",
        "valid_flow = datagen.flow(x_train, y_train, batch_size=BATCH_SIZE)"
      ],
      "execution_count": null,
      "outputs": []
    },
    {
      "cell_type": "code",
      "metadata": {
        "id": "8nZHWDh9iHZ0",
        "colab": {
          "base_uri": "https://localhost:8080/",
          "height": 849
        },
        "outputId": "b5483895-ac16-4492-c68a-8cfd96983dee"
      },
      "source": [
        "model.fit_generator(train_flow_w_crops,\n",
        "                    epochs=EPOCHS,\n",
        "                    steps_per_epoch=len(x_train) / BATCH_SIZE,\n",
        "                    callbacks=[lr_rate_scheduler, dropout_scheduler, tensorboard, checkpointer],\n",
        "                    validation_data=valid_flow,\n",
        "                    validation_steps=(len(x_train) / BATCH_SIZE))"
      ],
      "execution_count": null,
      "outputs": [
        {
          "output_type": "stream",
          "text": [
            "W0713 05:46:16.646206 140594951563136 deprecation.py:323] From /usr/local/lib/python3.6/dist-packages/tensorflow/python/ops/math_grad.py:1250: add_dispatch_support.<locals>.wrapper (from tensorflow.python.ops.array_ops) is deprecated and will be removed in a future version.\n",
            "Instructions for updating:\n",
            "Use tf.where in 2.0, which has the same broadcast rule as np.where\n",
            "W0713 05:46:17.121821 140594951563136 deprecation_wrapper.py:119] From /usr/local/lib/python3.6/dist-packages/keras/backend/tensorflow_backend.py:953: The name tf.assign_add is deprecated. Please use tf.compat.v1.assign_add instead.\n",
            "\n",
            "W0713 05:46:17.125928 140594951563136 deprecation.py:506] From /usr/local/lib/python3.6/dist-packages/keras/backend/tensorflow_backend.py:675: calling Constant.__init__ (from tensorflow.python.ops.init_ops) with dtype is deprecated and will be removed in a future version.\n",
            "Instructions for updating:\n",
            "Call initializer instance with the dtype argument instead of passing it to the constructor\n",
            "W0713 05:46:21.452289 140594951563136 deprecation_wrapper.py:119] From /usr/local/lib/python3.6/dist-packages/keras/callbacks.py:705: The name tf.summary.merge_all is deprecated. Please use tf.compat.v1.summary.merge_all instead.\n",
            "\n",
            "W0713 05:46:21.454073 140594951563136 deprecation_wrapper.py:119] From /usr/local/lib/python3.6/dist-packages/keras/callbacks.py:708: The name tf.summary.FileWriter is deprecated. Please use tf.compat.v1.summary.FileWriter instead.\n",
            "\n"
          ],
          "name": "stderr"
        },
        {
          "output_type": "stream",
          "text": [
            "Epoch 1/165000\n",
            "499/500 [============================>.] - ETA: 1s - loss: 10.9019 - acc: 0.0208 - top_k_categorical_accuracy: 0.0964Epoch 00001: val_loss improved from inf to 10.56649, saving model to ./keras_cifar100_model.h5\n",
            "500/500 [==============================] - 820s 2s/step - loss: 10.9009 - acc: 0.0208 - top_k_categorical_accuracy: 0.0964 - val_loss: 10.5665 - val_acc: 0.0287 - val_top_k_categorical_accuracy: 0.1216\n",
            "Epoch 2/165000\n",
            "499/500 [============================>.] - ETA: 1s - loss: 9.8973 - acc: 0.0648 - top_k_categorical_accuracy: 0.2293Epoch 00002: val_loss improved from 10.56649 to 9.37006, saving model to ./keras_cifar100_model.h5\n",
            "500/500 [==============================] - 799s 2s/step - loss: 9.8963 - acc: 0.0649 - top_k_categorical_accuracy: 0.2295 - val_loss: 9.3701 - val_acc: 0.0980 - val_top_k_categorical_accuracy: 0.3156\n",
            "Epoch 3/165000\n",
            "499/500 [============================>.] - ETA: 1s - loss: 9.0112 - acc: 0.1117 - top_k_categorical_accuracy: 0.3406Epoch 00003: val_loss improved from 9.37006 to 8.49679, saving model to ./keras_cifar100_model.h5\n",
            "500/500 [==============================] - 799s 2s/step - loss: 9.0102 - acc: 0.1118 - top_k_categorical_accuracy: 0.3409 - val_loss: 8.4968 - val_acc: 0.1588 - val_top_k_categorical_accuracy: 0.4201\n",
            "Epoch 4/165000\n",
            "499/500 [============================>.] - ETA: 1s - loss: 8.2547 - acc: 0.1573 - top_k_categorical_accuracy: 0.4342Epoch 00004: val_loss improved from 8.49679 to 7.71724, saving model to ./keras_cifar100_model.h5\n",
            "500/500 [==============================] - 799s 2s/step - loss: 8.2542 - acc: 0.1573 - top_k_categorical_accuracy: 0.4342 - val_loss: 7.7172 - val_acc: 0.2187 - val_top_k_categorical_accuracy: 0.5266\n",
            "Epoch 5/165000\n",
            "499/500 [============================>.] - ETA: 1s - loss: 7.6145 - acc: 0.2043 - top_k_categorical_accuracy: 0.4987Epoch 00005: val_loss improved from 7.71724 to 7.03328, saving model to ./keras_cifar100_model.h5\n",
            "500/500 [==============================] - 798s 2s/step - loss: 7.6141 - acc: 0.2043 - top_k_categorical_accuracy: 0.4986 - val_loss: 7.0333 - val_acc: 0.2813 - val_top_k_categorical_accuracy: 0.5942\n",
            "Epoch 6/165000\n",
            "499/500 [============================>.] - ETA: 1s - loss: 7.0714 - acc: 0.2402 - top_k_categorical_accuracy: 0.5466Epoch 00006: val_loss improved from 7.03328 to 6.46231, saving model to ./keras_cifar100_model.h5\n",
            "500/500 [==============================] - 798s 2s/step - loss: 7.0705 - acc: 0.2403 - top_k_categorical_accuracy: 0.5468 - val_loss: 6.4623 - val_acc: 0.3271 - val_top_k_categorical_accuracy: 0.6503\n",
            "Epoch 7/165000\n",
            "499/500 [============================>.] - ETA: 1s - loss: 6.5813 - acc: 0.2707 - top_k_categorical_accuracy: 0.5876Epoch 00007: val_loss improved from 6.46231 to 5.97150, saving model to ./keras_cifar100_model.h5\n",
            "500/500 [==============================] - 798s 2s/step - loss: 6.5807 - acc: 0.2706 - top_k_categorical_accuracy: 0.5877 - val_loss: 5.9715 - val_acc: 0.3658 - val_top_k_categorical_accuracy: 0.6872\n",
            "Epoch 8/165000\n",
            "499/500 [============================>.] - ETA: 1s - loss: 6.1699 - acc: 0.2982 - top_k_categorical_accuracy: 0.6197Epoch 00008: val_loss improved from 5.97150 to 5.67240, saving model to ./keras_cifar100_model.h5\n",
            "500/500 [==============================] - 798s 2s/step - loss: 6.1704 - acc: 0.2981 - top_k_categorical_accuracy: 0.6195 - val_loss: 5.6724 - val_acc: 0.3778 - val_top_k_categorical_accuracy: 0.6927\n",
            "Epoch 9/165000\n",
            "499/500 [============================>.] - ETA: 1s - loss: 5.8166 - acc: 0.3158 - top_k_categorical_accuracy: 0.6402Epoch 00009: val_loss improved from 5.67240 to 5.28865, saving model to ./keras_cifar100_model.h5\n",
            "500/500 [==============================] - 798s 2s/step - loss: 5.8161 - acc: 0.3159 - top_k_categorical_accuracy: 0.6403 - val_loss: 5.2886 - val_acc: 0.4017 - val_top_k_categorical_accuracy: 0.7264\n",
            "Epoch 10/165000\n",
            "499/500 [============================>.] - ETA: 1s - loss: 5.5023 - acc: 0.3311 - top_k_categorical_accuracy: 0.6568Epoch 00010: val_loss improved from 5.28865 to 5.02829, saving model to ./keras_cifar100_model.h5\n",
            "500/500 [==============================] - 798s 2s/step - loss: 5.5026 - acc: 0.3310 - top_k_categorical_accuracy: 0.6567 - val_loss: 5.0283 - val_acc: 0.4135 - val_top_k_categorical_accuracy: 0.7328\n",
            "Epoch 11/165000\n",
            "499/500 [============================>.] - ETA: 1s - loss: 5.2295 - acc: 0.3469 - top_k_categorical_accuracy: 0.6696Epoch 00011: val_loss improved from 5.02829 to 4.65803, saving model to ./keras_cifar100_model.h5\n",
            "500/500 [==============================] - 798s 2s/step - loss: 5.2290 - acc: 0.3469 - top_k_categorical_accuracy: 0.6697 - val_loss: 4.6580 - val_acc: 0.4509 - val_top_k_categorical_accuracy: 0.7692\n",
            "Epoch 12/165000\n",
            " 11/500 [..............................] - ETA: 9:52 - loss: 5.0245 - acc: 0.3682 - top_k_categorical_accuracy: 0.6791"
          ],
          "name": "stdout"
        }
      ]
    },
    {
      "cell_type": "code",
      "metadata": {
        "id": "sOrIfhGri0Tm"
      },
      "source": [
        ""
      ],
      "execution_count": null,
      "outputs": []
    },
    {
      "cell_type": "code",
      "metadata": {
        "id": "K8uR8oePlBi1"
      },
      "source": [
        ""
      ],
      "execution_count": null,
      "outputs": []
    }
  ]
}